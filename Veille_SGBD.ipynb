{
 "cells": [
  {
   "cell_type": "markdown",
   "metadata": {},
   "source": [
    "# Veille SGBD - Relationel, NoSQL, NewSQL"
   ]
  },
  {
   "cell_type": "markdown",
   "metadata": {},
   "source": [
    "### Historique"
   ]
  },
  {
   "cell_type": "markdown",
   "metadata": {},
   "source": [
    "Un système de base de données, SGBD, est un logiciel spécialisé dans la gestion des données de l'entreprise indépendamment des programmes qui les utilisent.\n",
    "\n",
    "Avant l'invention des bases de données relationnelles, les informaticiens utilisaient d'autres types de bases de données moins pratiques telles que les bases hiérarchiques et les bases réseaux.\n",
    "\n",
    "Au début des années 70, Edgar Frank Codd alors chercheur au sein d'un laboratoire IBM, a mis au point un modèle révolutionnaire centré sur la mise en relation des données. Le SGBDR, R pour relationnel était né. IBM ne s'est pas intéressé aux travaux de l'équipe du Dr Codd au contraire de Larry Ellison qui a créé la société Oracle Corp dans la foulée pour développer et exploiter ce nouvel SGBD avec le succès que l'on connait. "
   ]
  },
  {
   "cell_type": "markdown",
   "metadata": {},
   "source": [
    "## 1. SGBD Relationelles classiques"
   ]
  },
  {
   "cell_type": "markdown",
   "metadata": {},
   "source": [
    "### 1.1 Force des SGBD Relationelles classiques"
   ]
  },
  {
   "cell_type": "markdown",
   "metadata": {},
   "source": [
    "Les SGBD relationnels mettent au premier plan les relations entre les données. Celles-ci sont organisées en tables à deux dimensions: On parle alors de ligne et de colonnes.\n",
    "\n",
    "Considérons une table client, voir la figure ci-dessous. Un enregistrement telle que la description des données d'un client spécifique correspond à une ligne. Chaque colonne correspond à un attribut spécifique : le nom, l'adresse, le téléphone...\n",
    "\n",
    "Ainsi il est particulièrement aisé pour un programme ou directement par un utilisateur d'accéder à un client précis ou de trier, ou d'extraire les enregistrement clients selon une caractéristique, un attribut donc. "
   ]
  },
  {
   "cell_type": "markdown",
   "metadata": {},
   "source": [
    "![Texte alternatif](sgbd.jpg)"
   ]
  },
  {
   "cell_type": "markdown",
   "metadata": {},
   "source": [
    "Un SGBD relationnel organise les différentes données sous forme de tables. Chaque table est structurée en lignes et colonnes. Toutes les tables de la base de données peuvent être simplement rapprochées dès qu’elles partagent une même colonne (un attribut). Par exemple, la table « client » contient toutes les coordonnées des clients et la table « ventes » regroupe les différents achats réalisés par les clients.\n",
    "\n",
    "Chacune des deux tables a une colonne commune : le numéro du client. Il sera possible de réaliser une jointure simple pour, par exemple, définir le chiffre d’affaires par client, éditer la liste des clients ayant commandé pour plus de 50 000 euros dans le mois, ou encore connaître les produits vendus par région. Pour cela, on utilise un langage standardisé d’interrogation des bases de données : SQL voir la figure ci-dessus.\n",
    "\n",
    "La définition des tables de référence ne saurait être arbitraire. Il est important de structurer l’ensemble de la base de données pour pouvoir répondre à un maximum de requêtes* correspondantes aux besoins de l’entreprise, en ne réalisant que des jointures simples. Pour mieux maîtriser la conception du schéma relationnel*, il existe une normalisation : les formes normales (NFN). Ces dernières définissent trois niveaux de règles pour éviter les erreurs de conception, comme les redondances mal à propos pénalisant les évolutions futures de la base. "
   ]
  },
  {
   "cell_type": "markdown",
   "metadata": {},
   "source": [
    "### 1.2 Le Modèle \"ACID\" et la gestion des transactions"
   ]
  },
  {
   "cell_type": "markdown",
   "metadata": {},
   "source": [
    "Le modèle ACID définit les règles des transactions pour garantir la cohérence de la base. C'est indispensable pour gérer les requêtes provenant de différentes applications. Une transaction permet justement d'envelopper plusieurs requêtes qui doivent impérativement s'exécuter séquentiellement en une même unité. Si jamais il s'avérait impossible de traiter la totalité de la transaction, le système revient à un état stable antérieur.\n",
    "\n",
    "* Atomicité : toutes les actions sont exécutées ou aucune.\n",
    "     * -> si une partie d'une transaction ne peut être faite, il faut effacer toute trace de la transaction et remettre les données dans l'état où elles étaient avant la transaction. L'atomicité doit être respectée dans toutes situations, comme une panne d'électricité, une défaillance de l'ordinateur, ou une panne d'un disque magnétique. \n",
    "* Cohérence : la transaction doit placer le système en un état cohérent. Si ce n’est pas possible, elle revient à l’état stable précédent.\n",
    "    * -> Tout changement à la base de données doit être valide selon toutes les règles définies, incluant mais non limitées aux contraintes d'intégrité, aux rollbacks en cascade, aux déclencheurs de base de données, et à toutes combinaisons d'événements. \n",
    "* Isolation : les changements intermédiaires, apportés à la base par la transaction en cours, ne sont pas vus par les autres transactions exécutées en parallèle depuis d’autres tâches avant la validation.\n",
    "* Durabilité : une fois validés, les changements apportés par la transaction sont durables, elle demeure enregistrée même à la suite d'une panne d'électricité, d'une panne de l'ordinateur ou d'un autre problème. \n",
    "    * -> Par exemple, dans une base de données relationnelle, lorsqu'un groupe d'énoncés SQL a été exécuté, les résultats doivent être enregistrés de façon permanente, même dans le cas d'une panne immédiatement après l'exécution des énoncés. \n"
   ]
  },
  {
   "cell_type": "markdown",
   "metadata": {},
   "source": [
    "### 1.3 Faiblesses des SGBD Relationelles classiques"
   ]
  },
  {
   "cell_type": "markdown",
   "metadata": {},
   "source": [
    "Les bases de données relationnelles, étroitement associées au langage SQL, comportent intrinsèquement un certain nombre de règles d'organisation - les formes normales par exemple, pour garantir la robustesse du schéma relationnel - et de sécurité incontournables. Ces règles sont particulièrement efficaces pour un mode de gestion courant des données. Mais elles s'avèrent être un véritable obstacle pour le déploiement de bases de données de grande envergure et redondantes, comme le nécessite **le big data, stockage et analyse**. Il faut donc adopter un autre mode de gestion des données pour faciliter **les analyses massives**."
   ]
  },
  {
   "cell_type": "markdown",
   "metadata": {},
   "source": [
    "## NoSQL"
   ]
  },
  {
   "cell_type": "markdown",
   "metadata": {},
   "source": [
    "Depuis 2010, le mouvement NoSQL vise à développer des applications de gestion de données massives en utilisant des modèles N1NF (Non First Normal Form). Les modèles utilisés peuvent être : orienté clé-valeur (associant une valeur à chaque clé), orienté documents ou encore graphe.\n",
    "\n",
    "Les bases de données relationnelles se prêtent mal aux exigences des applications massivement parallèles exploitant de grandes quantités de données. Les bases de données NoSQL (Not Only SQL) marquent une rupture assez brutale avec la manière de concevoir les schémas de données que l'on pratique depuis (déjà !) quelques décennies.\n",
    "Spécifiquement dédiées aux applications orientées Internet, les bases de données NoSQL pallient ainsi aux difficultés de la gestion de bases de données relationnelles un peu trop conséquentes et réparties sur plusieurs machines. "
   ]
  },
  {
   "cell_type": "markdown",
   "metadata": {},
   "source": [
    "### Principe\n",
    "Les bases de type NoSQL, a fortiori les bases orientées \"document\", délaissent les points forts des bases relationnelles, que sont la notion d'enregistrement et les relations entre éléments, pour se focaliser sur la notion de \"document\". Les bases NoSQL s'avèrent beaucoup plus flexibles et bien plus évolutives. La structure organisationnelle n'est plus liée à un schéma relationnel difficile à modifier, et la base peut donc croître sans contrainte.\n",
    "\n",
    "D'autre part, l'orientation \"document\" facilite le déploiement de la base sur de multiples machines. En automatique bien sûr. Le développeur ne se préoccupe pas de la localisation des documents, fractionnés ou pas.\n",
    "\n",
    "Lorsque la base devient trop importante, il suffit de définir de nouvelles machines connectées sur le réseau,un nouveau cluster, et la base NoSQL se débrouille.\n",
    "\n",
    "C'est bien là la réponse aux nouvelles applications exigeantes en rapidité de traitement et en quantité de données gérées. Des quantités de l'ordre de plusieurs centaines de téraoctets, par exemple.\n",
    "\n",
    "À noter, il existe aussi les bases NOSQL de type \"colonnes\" et les bases de type \"graphe\". Les bases de type \"colonnes\" sont une excellente solution pour réaliser des analyses massives.Elle sont toutefois plus complexes à exploiter. Les bases de type graphes, plus délicates à appréhender sont, comme leurs dénomination l'indique, plus adaptées à la résolution des questions d'organisation en réseau (structure en arcs et noeuds), particulièrement utiles pour gérer les notions d'appartenance à des groupes sociaux par exemple. Il suffit en effet de suivre le graphe en parcourant les noeuds pour percevoir l'ensemble des liens et accéder plus aisément à un élément précis."
   ]
  },
  {
   "cell_type": "markdown",
   "metadata": {},
   "source": [
    "### Est-ce la fin des SGBD relationnels ?\n",
    "Les bases de données NoSQL ne remplacent pas nécessairement les bases de données relationnelles. Elles ne s'adressent pas aux mêmes types d'applications. Pour le moment en tout cas.\n",
    "\n",
    "Ainsi, elles ne sont pas toutes totalement rigoureuses sur l'intégrité des transactions (ACID) et ne garantissent pas systématiquement la consistance des données.\n",
    "\n",
    "Cela dit, la tolérance aux pannes, la flexibilité et l'évolutivité sans contrainte, trois caractéristiques des bases NoSQL, sont des préoccupations pour tous les concepteurs de base de données.\n",
    "\n",
    "Les impératifs du \"time to market\" toujours plus court sont un bon aiguillon pour inciter les DSI à réviser sérieusement la gestion des données de l'entreprise. Il s'agit en effet d´adopter des solutions à la mise en oeuvre plus rapide. Bien entendu, toutes les applications ne basculeront pas du jour au lendemain sur les nouveaux modèles de bases de données. Mais une réflexion pour une optimisation efficace des principes de stockage en accord avec les applications utilisatrices s'impose. "
   ]
  },
  {
   "cell_type": "markdown",
   "metadata": {},
   "source": [
    "###  4 des principales bases NoSQL Open Source\n",
    "\n",
    "* **CouchDB**, un produit du projet **Apache** couchdb.apache.org. C'est une base de type **\"documentaire\"**.\n",
    "* **Cassandra** développée chez **Facebook**, et maintenant en Open Source,géré par la fondation Apache cassandra.apache.org. C'est une base de type **\"colonnes\"**.\n",
    "* **MongoDB**, une base NoSQL orientée document, particulièrement bien diffusée et professionnalisée mongodb.org\n",
    "* **Redis**, REmote DIctionary Server Redis\n"
   ]
  },
  {
   "cell_type": "markdown",
   "metadata": {},
   "source": [
    "## NewSQL"
   ]
  },
  {
   "cell_type": "code",
   "execution_count": null,
   "metadata": {},
   "outputs": [],
   "source": []
  }
 ],
 "metadata": {
  "kernelspec": {
   "display_name": "Python 3",
   "language": "python",
   "name": "python3"
  },
  "language_info": {
   "codemirror_mode": {
    "name": "ipython",
    "version": 3
   },
   "file_extension": ".py",
   "mimetype": "text/x-python",
   "name": "python",
   "nbconvert_exporter": "python",
   "pygments_lexer": "ipython3",
   "version": "3.8.3"
  }
 },
 "nbformat": 4,
 "nbformat_minor": 4
}
